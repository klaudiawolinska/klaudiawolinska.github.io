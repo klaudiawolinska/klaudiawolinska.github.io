{
 "cells": [
  {
   "cell_type": "code",
   "execution_count": 1,
   "id": "433415b4",
   "metadata": {},
   "outputs": [
    {
     "ename": "SyntaxError",
     "evalue": "invalid syntax (1895047525.py, line 1)",
     "output_type": "error",
     "traceback": [
      "\u001b[0;36m  Cell \u001b[0;32mIn[1], line 1\u001b[0;36m\u001b[0m\n\u001b[0;31m    print('This isn't going to work')\u001b[0m\n\u001b[0m                    ^\u001b[0m\n\u001b[0;31mSyntaxError\u001b[0m\u001b[0;31m:\u001b[0m invalid syntax\n"
     ]
    }
   ],
   "source": [
    "print('This isn't going to work')"
   ]
  },
  {
   "cell_type": "code",
   "execution_count": 3,
   "id": "cc025755",
   "metadata": {},
   "outputs": [
    {
     "name": "stdout",
     "output_type": "stream",
     "text": [
      "But this isn't going to cause any problems!\n"
     ]
    }
   ],
   "source": [
    "print(\"But this isn't going to cause any problems!\")"
   ]
  },
  {
   "cell_type": "code",
   "execution_count": 4,
   "id": "bbb42c6c",
   "metadata": {},
   "outputs": [
    {
     "name": "stdout",
     "output_type": "stream",
     "text": [
      "This is a\n",
      "multi-line\n",
      "string\n"
     ]
    }
   ],
   "source": [
    "print('''This is a\n",
    "multi-line\n",
    "string''')"
   ]
  },
  {
   "cell_type": "code",
   "execution_count": 5,
   "id": "1f84bcc7",
   "metadata": {},
   "outputs": [
    {
     "data": {
      "text/plain": [
       "50"
      ]
     },
     "execution_count": 5,
     "metadata": {},
     "output_type": "execute_result"
    }
   ],
   "source": [
    "my_string = 'I wonder how many characters are in this string...'\n",
    "len(my_string)"
   ]
  },
  {
   "cell_type": "code",
   "execution_count": 6,
   "id": "c3b0bcb9",
   "metadata": {},
   "outputs": [
    {
     "name": "stdout",
     "output_type": "stream",
     "text": [
      "some random words\n"
     ]
    }
   ],
   "source": [
    "str_1 = 'some '\n",
    "str_2 = 'random '\n",
    "str_3 = 'words'\n",
    "\n",
    "print(str_1 + str_2 + str_3)"
   ]
  },
  {
   "cell_type": "code",
   "execution_count": 7,
   "id": "eaf21443",
   "metadata": {},
   "outputs": [
    {
     "name": "stdout",
     "output_type": "stream",
     "text": [
      "some random words\n"
     ]
    }
   ],
   "source": [
    "str_1 = 'some '\n",
    "str_2 = 'random '\n",
    "str_3 = 'words'\n",
    "\n",
    "str_1 += str_2\n",
    "str_1 += str_3\n",
    "\n",
    "print(str_1)"
   ]
  },
  {
   "cell_type": "code",
   "execution_count": 8,
   "id": "a23f4b16",
   "metadata": {},
   "outputs": [
    {
     "name": "stdout",
     "output_type": "stream",
     "text": [
      "some random words\n"
     ]
    }
   ],
   "source": [
    "str_1 = 'some '\n",
    "str_2 = 'random '\n",
    "str_3 = 'words'\n",
    "\n",
    "print(''.join([str_1, str_2, str_3]))"
   ]
  },
  {
   "cell_type": "code",
   "execution_count": 9,
   "id": "c9987815",
   "metadata": {},
   "outputs": [
    {
     "name": "stdout",
     "output_type": "stream",
     "text": [
      "some random words\n"
     ]
    }
   ],
   "source": [
    "str_1 = 'some '\n",
    "str_2 = 'random '\n",
    "str_3 = 'words'\n",
    "\n",
    "print(f'{str_1}{str_2}{str_3}')"
   ]
  },
  {
   "cell_type": "code",
   "execution_count": 10,
   "id": "ab6c25fe",
   "metadata": {},
   "outputs": [
    {
     "name": "stdout",
     "output_type": "stream",
     "text": [
      "some random words\n"
     ]
    }
   ],
   "source": [
    "str_1 = 'some '\n",
    "str_2 = 'random '\n",
    "str_3 = 'words'\n",
    "\n",
    "print('{}{}{}'.format(str_1, str_2, str_3))"
   ]
  },
  {
   "cell_type": "code",
   "execution_count": 11,
   "id": "46d24d48",
   "metadata": {},
   "outputs": [
    {
     "name": "stdout",
     "output_type": "stream",
     "text": [
      "f\n",
      "ant\n",
      "c\n",
      "fnatc\n",
      "citsatnaf\n"
     ]
    }
   ],
   "source": [
    "my_string = 'fantastic'\n",
    "print(my_string[0]) # first character\n",
    "print(my_string[1:4]) # some middle characters\n",
    "print(my_string[-1]) # last character\n",
    "print(my_string[::2]) # every second character\n",
    "print(my_string[::-1]) # reversed string"
   ]
  },
  {
   "cell_type": "code",
   "execution_count": 12,
   "id": "1ea8f72e",
   "metadata": {},
   "outputs": [
    {
     "name": "stdout",
     "output_type": "stream",
     "text": [
      "WHAT HAPPENED TO THESE LETTERS?\n",
      "what happened to these letters?\n",
      "What happened to these letters?\n",
      "What Happened To These Letters?\n",
      "WHat hAppENED TO these LEttERs?\n"
     ]
    }
   ],
   "source": [
    "my_string = 'whAT HaPPened to THESE leTTerS?'\n",
    "print(my_string.upper())\n",
    "print(my_string.lower())\n",
    "print(my_string.capitalize())\n",
    "print(my_string.title())\n",
    "print(my_string.swapcase())"
   ]
  },
  {
   "cell_type": "code",
   "execution_count": 13,
   "id": "43c93bca",
   "metadata": {},
   "outputs": [
    {
     "name": "stdout",
     "output_type": "stream",
     "text": [
      "['This', 'string', 'should', 'be', 'split', 'into', 'separate', 'parts']\n",
      "['This', 'string', 'should', 'be', 'split', 'into', 'separate', 'parts']\n",
      "['This string ', 'should be split ', 'into separate parts']\n",
      "('This', ' ', 'string \\nshould be split \\ninto separate parts')\n"
     ]
    }
   ],
   "source": [
    "my_string = '''This string \n",
    "should be split \n",
    "into separate parts'''\n",
    "\n",
    "print(my_string.split())\n",
    "print(my_string.rsplit())\n",
    "print(my_string.splitlines())\n",
    "print(my_string.partition(' '))"
   ]
  },
  {
   "cell_type": "code",
   "execution_count": 14,
   "id": "cc4722b3",
   "metadata": {},
   "outputs": [
    {
     "name": "stdout",
     "output_type": "stream",
     "text": [
      "There is way too   much  whitespace here.\n",
      "   There is way too   much  whitespace here.\n",
      "There is way too   much  whitespace here.     \n",
      "Thereiswaytoomuchwhitespacehere.\n",
      "There is way too much whitespace here.\n"
     ]
    }
   ],
   "source": [
    "my_string = '   There is way too   much  whitespace here.     '\n",
    "\n",
    "print(my_string.strip())\n",
    "print(my_string.rstrip())\n",
    "print(my_string.lstrip())\n",
    "print(my_string.replace(\" \", \"\"))\n",
    "print(\" \".join(my_string.split()))"
   ]
  },
  {
   "cell_type": "code",
   "execution_count": 15,
   "id": "2ea7478d",
   "metadata": {},
   "outputs": [
    {
     "name": "stdout",
     "output_type": "stream",
     "text": [
      "Mr Heckles has a dog. Or he could have a dog. You owe him a dog.\n"
     ]
    }
   ],
   "source": [
    "my_string = 'Mr Heckles has a cat. Or he could have a cat. You owe him a cat.'\n",
    "# Any Friends fans here? ;)\n",
    "\n",
    "print(my_string.replace('cat', 'dog'))"
   ]
  },
  {
   "cell_type": "code",
   "execution_count": 16,
   "id": "61a8e1aa",
   "metadata": {},
   "outputs": [
    {
     "name": "stdout",
     "output_type": "stream",
     "text": [
      "Lxt's rxplacx szmx vzwxls.\n"
     ]
    }
   ],
   "source": [
    "my_string = \"Let's replace some vowels.\"\n",
    "\n",
    "translation_table = str.maketrans('eo', 'xz')\n",
    "\n",
    "print(my_string.translate(translation_table))"
   ]
  },
  {
   "cell_type": "code",
   "execution_count": 17,
   "id": "efcc0e84",
   "metadata": {},
   "outputs": [
    {
     "name": "stdout",
     "output_type": "stream",
     "text": [
      "Today is a great day and I feel really great too.\n"
     ]
    }
   ],
   "source": [
    "my_string = 'Today is a good day and I feel really good too.'\n",
    "\n",
    "words = ['great' if word == 'good' else word for word in my_string.split()]\n",
    "my_string = ' '.join(words)\n",
    "print(my_string)"
   ]
  },
  {
   "cell_type": "code",
   "execution_count": 18,
   "id": "78511c79",
   "metadata": {},
   "outputs": [
    {
     "name": "stdout",
     "output_type": "stream",
     "text": [
      "Hello, Python!\n"
     ]
    }
   ],
   "source": [
    "string = 'Hello, world!'\n",
    "string = string.replace('world', 'python').title()\n",
    "print(string)"
   ]
  },
  {
   "cell_type": "code",
   "execution_count": 19,
   "id": "d05e8541",
   "metadata": {},
   "outputs": [
    {
     "name": "stdout",
     "output_type": "stream",
     "text": [
      "17\n",
      "-1\n",
      "17\n"
     ]
    }
   ],
   "source": [
    "my_string = 'Mr Heckles has a cat. Or he could have a cat. You owe him a cat.'\n",
    "\n",
    "print(my_string.find('cat'))\n",
    "print(my_string.find('dog'))\n",
    "print(my_string.index('cat'))"
   ]
  },
  {
   "cell_type": "code",
   "execution_count": 20,
   "id": "4b872a8c",
   "metadata": {},
   "outputs": [
    {
     "ename": "ValueError",
     "evalue": "substring not found",
     "output_type": "error",
     "traceback": [
      "\u001b[0;31m---------------------------------------------------------------------------\u001b[0m",
      "\u001b[0;31mValueError\u001b[0m                                Traceback (most recent call last)",
      "Cell \u001b[0;32mIn[20], line 1\u001b[0m\n\u001b[0;32m----> 1\u001b[0m \u001b[38;5;28mprint\u001b[39m(\u001b[43mmy_string\u001b[49m\u001b[38;5;241;43m.\u001b[39;49m\u001b[43mindex\u001b[49m\u001b[43m(\u001b[49m\u001b[38;5;124;43m'\u001b[39;49m\u001b[38;5;124;43mdog\u001b[39;49m\u001b[38;5;124;43m'\u001b[39;49m\u001b[43m)\u001b[49m)\n",
      "\u001b[0;31mValueError\u001b[0m: substring not found"
     ]
    }
   ],
   "source": [
    "print(my_string.index('dog'))"
   ]
  },
  {
   "cell_type": "code",
   "execution_count": 21,
   "id": "a5948b5a",
   "metadata": {},
   "outputs": [
    {
     "name": "stdout",
     "output_type": "stream",
     "text": [
      "60\n",
      "-1\n",
      "60\n"
     ]
    }
   ],
   "source": [
    "print(my_string.rfind('cat'))\n",
    "print(my_string.rfind('dog'))\n",
    "print(my_string.rindex('cat'))"
   ]
  },
  {
   "cell_type": "code",
   "execution_count": 22,
   "id": "e7c8f694",
   "metadata": {},
   "outputs": [
    {
     "ename": "ValueError",
     "evalue": "substring not found",
     "output_type": "error",
     "traceback": [
      "\u001b[0;31m---------------------------------------------------------------------------\u001b[0m",
      "\u001b[0;31mValueError\u001b[0m                                Traceback (most recent call last)",
      "Cell \u001b[0;32mIn[22], line 1\u001b[0m\n\u001b[0;32m----> 1\u001b[0m \u001b[38;5;28mprint\u001b[39m(\u001b[43mmy_string\u001b[49m\u001b[38;5;241;43m.\u001b[39;49m\u001b[43mrindex\u001b[49m\u001b[43m(\u001b[49m\u001b[38;5;124;43m'\u001b[39;49m\u001b[38;5;124;43mdog\u001b[39;49m\u001b[38;5;124;43m'\u001b[39;49m\u001b[43m)\u001b[49m)\n",
      "\u001b[0;31mValueError\u001b[0m: substring not found"
     ]
    }
   ],
   "source": [
    "print(my_string.rindex('dog'))"
   ]
  },
  {
   "cell_type": "code",
   "execution_count": 23,
   "id": "cfd11e8c",
   "metadata": {},
   "outputs": [
    {
     "name": "stdout",
     "output_type": "stream",
     "text": [
      "3\n"
     ]
    }
   ],
   "source": [
    "my_string = 'I love python, I cannot imagine my life without python. You can do so many amazing things with python.'\n",
    "\n",
    "print(my_string.count('python'))"
   ]
  },
  {
   "cell_type": "code",
   "execution_count": 24,
   "id": "e4a25580",
   "metadata": {},
   "outputs": [
    {
     "name": "stdout",
     "output_type": "stream",
     "text": [
      "Mr Heckles has a dog. Or he could have a dog. You owe him a dog.\n",
      "Mr Heckles has a dog. Or he could have a cat. You owe him a cat.\n"
     ]
    }
   ],
   "source": [
    "my_string = 'Mr Heckles has a cat. Or he could have a cat. You owe him a cat.'\n",
    "\n",
    "print(my_string.replace('cat', 'dog'))\n",
    "print(my_string.replace('cat', 'dog', 1))"
   ]
  },
  {
   "cell_type": "code",
   "execution_count": 25,
   "id": "953b347c",
   "metadata": {},
   "outputs": [
    {
     "name": "stdout",
     "output_type": "stream",
     "text": [
      "Mr Heckles has a cat. Or he could have a cat. You owe him a cat.\n",
      "Mr Heckles has a cat. Or he could have a dog. You owe him a fish.\n"
     ]
    }
   ],
   "source": [
    "my_string = 'Mr Heckles has a {}. Or he could have a {}. You owe him a {}.'\n",
    "print(my_string.format('cat', 'cat', 'cat'))\n",
    "print(my_string.format('cat', 'dog', 'fish'))"
   ]
  },
  {
   "cell_type": "code",
   "execution_count": 26,
   "id": "5b7d8c72",
   "metadata": {},
   "outputs": [
    {
     "name": "stdout",
     "output_type": "stream",
     "text": [
      "Mr Heckles has a dog. Or he could have a fish. You owe him a cat.\n"
     ]
    }
   ],
   "source": [
    "my_string = 'Mr Heckles has a {1}. Or he could have a {2}. You owe him a {0}.'\n",
    "print(my_string.format('cat', 'dog', 'fish'))"
   ]
  },
  {
   "cell_type": "code",
   "execution_count": 27,
   "id": "054dd424",
   "metadata": {},
   "outputs": [
    {
     "name": "stdout",
     "output_type": "stream",
     "text": [
      "Mr Heckles has a cat. Or he could have a cat. You owe him a cat.\n"
     ]
    }
   ],
   "source": [
    "my_string = 'Mr Heckles has a {0}. Or he could have a {0}. You owe him a {0}.'\n",
    "print(my_string.format('cat', 'dog', 'fish'))"
   ]
  },
  {
   "cell_type": "code",
   "execution_count": 28,
   "id": "4b951eb8",
   "metadata": {},
   "outputs": [
    {
     "name": "stdout",
     "output_type": "stream",
     "text": [
      "Mr Heckles has a cat. Or he could have a cat. You owe him a cat.\n"
     ]
    }
   ],
   "source": [
    "my_string = '{owner} has a {animal}. Or he could have a {animal}. You owe him a {animal}.'\n",
    "print(my_string.format(owner='Mr Heckles', animal='cat'))"
   ]
  },
  {
   "cell_type": "code",
   "execution_count": 29,
   "id": "6f0af743",
   "metadata": {},
   "outputs": [
    {
     "name": "stdout",
     "output_type": "stream",
     "text": [
      "Mr Heckles has a cat. Or he could have a cat. You owe him a cat.\n"
     ]
    }
   ],
   "source": [
    "my_string = '{0} has a {animal}. Or he could have a {animal}. You owe him a {animal}.'\n",
    "print(my_string.format('Mr Heckles', animal='cat'))"
   ]
  },
  {
   "cell_type": "code",
   "execution_count": 30,
   "id": "83788d78",
   "metadata": {},
   "outputs": [
    {
     "name": "stdout",
     "output_type": "stream",
     "text": [
      "There is 0.05% chance that Mr Heckles had a cat.\n"
     ]
    }
   ],
   "source": [
    "my_string = 'There is {chance:.2f}% chance that Mr Heckles had a cat.'\n",
    "print(my_string.format(chance=0.0512349))"
   ]
  },
  {
   "cell_type": "code",
   "execution_count": 31,
   "id": "bfd969fa",
   "metadata": {},
   "outputs": [
    {
     "name": "stdout",
     "output_type": "stream",
     "text": [
      "Today's date: 2023-01-18 14:04:58.104646\n",
      "Today's date: 2023-01-18\n"
     ]
    }
   ],
   "source": [
    "from datetime import datetime\n",
    "\n",
    "print(\"Today's date: {}\".format(datetime.now()))\n",
    "print(\"Today's date: {:%Y-%m-%d}\".format(datetime.now()))"
   ]
  },
  {
   "cell_type": "code",
   "execution_count": 32,
   "id": "a305d066",
   "metadata": {},
   "outputs": [
    {
     "name": "stdout",
     "output_type": "stream",
     "text": [
      "Mr Heckles has a cat. Or he could have a cat. You owe him a cat.\n"
     ]
    }
   ],
   "source": [
    "my_dict = {\n",
    "    'animal': 'cat',\n",
    "    'owner': 'Mr Heckles'\n",
    "}\n",
    "\n",
    "my_string = '{d[owner]} has a {d[animal]}. Or he could have a {d[animal]}. You owe him a {d[animal]}.'\n",
    "\n",
    "print(my_string.format(d=my_dict))"
   ]
  },
  {
   "cell_type": "code",
   "execution_count": 33,
   "id": "df0cae06",
   "metadata": {},
   "outputs": [
    {
     "name": "stdout",
     "output_type": "stream",
     "text": [
      "Mr Heckles has a cat. Or he could have a cat. You owe him a cat.\n"
     ]
    }
   ],
   "source": [
    "owner = 'Mr Heckles'\n",
    "animal = 'cat'\n",
    "\n",
    "print(f'{owner} has a {animal}. Or he could have a {animal}. You owe him a {animal}.')"
   ]
  },
  {
   "cell_type": "code",
   "execution_count": 34,
   "id": "cb192a54",
   "metadata": {},
   "outputs": [
    {
     "name": "stdout",
     "output_type": "stream",
     "text": [
      "The value of pi is approximately 3.14.\n"
     ]
    }
   ],
   "source": [
    "pi = 3.14159\n",
    "\n",
    "print(f'The value of pi is approximately {pi:.2f}.')"
   ]
  },
  {
   "cell_type": "code",
   "execution_count": 35,
   "id": "2a817ea2",
   "metadata": {},
   "outputs": [
    {
     "name": "stdout",
     "output_type": "stream",
     "text": [
      "Mr Heckles has a cat. Or he could have a cat. You owe him a cat.\n"
     ]
    }
   ],
   "source": [
    "my_dict = {\n",
    "    'animal': 'cat',\n",
    "    'owner': 'Mr Heckles'\n",
    "}\n",
    "\n",
    "print(f\"{my_dict['owner']} has a {my_dict['animal']}. \"\n",
    "      f\"Or he could have a {my_dict['animal']}. \"\n",
    "      f\"You owe him a {my_dict['animal']}.\")"
   ]
  },
  {
   "cell_type": "code",
   "execution_count": 36,
   "id": "7ce6f586",
   "metadata": {},
   "outputs": [
    {
     "name": "stdout",
     "output_type": "stream",
     "text": [
      "10 times 4 equals 40\n"
     ]
    }
   ],
   "source": [
    "x = 10\n",
    "y = 4\n",
    "\n",
    "print(f'{x} times {y} equals {x*y}')"
   ]
  },
  {
   "cell_type": "code",
   "execution_count": 37,
   "id": "2407755a",
   "metadata": {},
   "outputs": [
    {
     "name": "stdout",
     "output_type": "stream",
     "text": [
      "10 times 4 equals 40\n"
     ]
    }
   ],
   "source": [
    "def multiply(a, b):\n",
    "    return a*b\n",
    "\n",
    "x = 10\n",
    "y = 4\n",
    "\n",
    "print(f'{x} times {y} equals {multiply(x, y)}')"
   ]
  },
  {
   "cell_type": "code",
   "execution_count": 2,
   "id": "db63fec9",
   "metadata": {},
   "outputs": [],
   "source": [
    "import re"
   ]
  },
  {
   "cell_type": "code",
   "execution_count": 39,
   "id": "4551a462",
   "metadata": {},
   "outputs": [
    {
     "name": "stdout",
     "output_type": "stream",
     "text": [
      "<re.Match object; span=(17, 20), match='cat'>\n"
     ]
    }
   ],
   "source": [
    "text = 'Mr Heckles has a cat. Or he could have a cat. You owe him a cat.'\n",
    "\n",
    "print(re.search(r'cat', text))"
   ]
  },
  {
   "cell_type": "code",
   "execution_count": 40,
   "id": "e7c5a588",
   "metadata": {},
   "outputs": [
    {
     "name": "stdout",
     "output_type": "stream",
     "text": [
      "['cat', 'cat', 'cat']\n"
     ]
    }
   ],
   "source": [
    "text = 'Mr Heckles has a cat. Or he could have a cat. You owe him a cat.'\n",
    "\n",
    "print(re.findall(r'cat', text))"
   ]
  },
  {
   "cell_type": "code",
   "execution_count": 41,
   "id": "ad1cb2d5",
   "metadata": {},
   "outputs": [
    {
     "name": "stdout",
     "output_type": "stream",
     "text": [
      "['Mr Heckles has a cat', ' Or he could have a cat', ' You owe him a cat', '']\n"
     ]
    }
   ],
   "source": [
    "text = 'Mr Heckles has a cat! Or he could have a cat! You owe him a cat!'\n",
    "\n",
    "print(re.split(r'!', text))"
   ]
  },
  {
   "cell_type": "code",
   "execution_count": 42,
   "id": "e60a3b1b",
   "metadata": {},
   "outputs": [
    {
     "name": "stdout",
     "output_type": "stream",
     "text": [
      "Mr Heckles has a cat... Or he could have a cat... You owe him a cat...\n"
     ]
    }
   ],
   "source": [
    "text = 'Mr Heckles has a cat! Or he could have a cat! You owe him a cat!'\n",
    "\n",
    "print(re.sub(r'!', '...', text))"
   ]
  },
  {
   "cell_type": "code",
   "execution_count": 43,
   "id": "f83fa7db",
   "metadata": {},
   "outputs": [
    {
     "name": "stdout",
     "output_type": "stream",
     "text": [
      "['1', '0', '1', '1', '5', '6', '2', '4', '9', '9']\n"
     ]
    }
   ],
   "source": [
    "tweets = '10 tweets by @user1. 15 tweets by @user624. 99 tweets by @userN'\n",
    "\n",
    "print(re.findall(r'\\d', tweets))"
   ]
  },
  {
   "cell_type": "code",
   "execution_count": 44,
   "id": "2ddf64ed",
   "metadata": {},
   "outputs": [
    {
     "name": "stdout",
     "output_type": "stream",
     "text": [
      "[' ', 't', 'w', 'e', 'e', 't', 's', ' ', 'b', 'y', ' ', '@', 'u', 's', 'e', 'r', '.', ' ', ' ', 't', 'w', 'e', 'e', 't', 's', ' ', 'b', 'y', ' ', '@', 'u', 's', 'e', 'r', '.', ' ', ' ', 't', 'w', 'e', 'e', 't', 's', ' ', 'b', 'y', ' ', '@', 'u', 's', 'e', 'r', 'N']\n"
     ]
    }
   ],
   "source": [
    "tweets = '10 tweets by @user1. 15 tweets by @user624. 99 tweets by @userN'\n",
    "\n",
    "print(re.findall(r'\\D', tweets))"
   ]
  },
  {
   "cell_type": "code",
   "execution_count": 45,
   "id": "6795c498",
   "metadata": {},
   "outputs": [
    {
     "name": "stdout",
     "output_type": "stream",
     "text": [
      "['user1', 'user6']\n"
     ]
    }
   ],
   "source": [
    "tweets = '10 tweets by @user1. 15 tweets by @user624. 99 tweets by @userN'\n",
    "\n",
    "print(re.findall(r'user\\d', tweets))"
   ]
  },
  {
   "cell_type": "code",
   "execution_count": 46,
   "id": "6d74b6bc",
   "metadata": {},
   "outputs": [
    {
     "name": "stdout",
     "output_type": "stream",
     "text": [
      "['user1', 'user6', 'userN']\n"
     ]
    }
   ],
   "source": [
    "tweets = '10 tweets by @user1. 15 tweets by @user624. 99 tweets by @userN'\n",
    "\n",
    "print(re.findall(r'user\\w', tweets))"
   ]
  },
  {
   "cell_type": "code",
   "execution_count": 47,
   "id": "2b9b9321",
   "metadata": {},
   "outputs": [
    {
     "name": "stdout",
     "output_type": "stream",
     "text": [
      "[' ', ' ', ' ', '@', '.', ' ', ' ', ' ', ' ', '@', '.', ' ', ' ', ' ', ' ', '@']\n"
     ]
    }
   ],
   "source": [
    "tweets = '10 tweets by @user1. 15 tweets by @user624. 99 tweets by @userN'\n",
    "\n",
    "print(re.findall(r'\\W', tweets))"
   ]
  },
  {
   "cell_type": "code",
   "execution_count": 48,
   "id": "3f2de0e6",
   "metadata": {},
   "outputs": [
    {
     "name": "stdout",
     "output_type": "stream",
     "text": [
      "['10 tweets', '15 tweets', '99 tweets']\n"
     ]
    }
   ],
   "source": [
    "tweets = '10 tweets by @user1. 15 tweets by @user624. 99 tweets by @userN'\n",
    "\n",
    "print(re.findall(r'\\d\\d\\stweets', tweets))"
   ]
  },
  {
   "cell_type": "code",
   "execution_count": 49,
   "id": "64fc9b82",
   "metadata": {},
   "outputs": [
    {
     "name": "stdout",
     "output_type": "stream",
     "text": [
      "10 tweets: @user1. 15 tweets: @user624. 99 tweets: @userN\n"
     ]
    }
   ],
   "source": [
    "tweets = '10 tweets by @user1. 15 tweets by @user624. 99 tweets by @userN'\n",
    "\n",
    "print(re.sub(r'\\sby', ':', tweets))"
   ]
  },
  {
   "cell_type": "code",
   "execution_count": 50,
   "id": "154a50b2",
   "metadata": {},
   "outputs": [
    {
     "name": "stdout",
     "output_type": "stream",
     "text": [
      "<re.Match object; span=(0, 12), match='password9876'>\n"
     ]
    }
   ],
   "source": [
    "text = 'password9876'\n",
    "\n",
    "print(re.search(r'\\w\\w\\w\\w\\w\\w\\w\\w\\d\\d\\d\\d', text))"
   ]
  },
  {
   "cell_type": "code",
   "execution_count": 51,
   "id": "6a3424e5",
   "metadata": {},
   "outputs": [
    {
     "name": "stdout",
     "output_type": "stream",
     "text": [
      "<re.Match object; span=(0, 12), match='password9876'>\n"
     ]
    }
   ],
   "source": [
    "text = 'password9876'\n",
    "\n",
    "print(re.search(r'\\w{8}\\d{4}', text))"
   ]
  },
  {
   "cell_type": "code",
   "execution_count": 52,
   "id": "d3ddf394",
   "metadata": {},
   "outputs": [
    {
     "name": "stdout",
     "output_type": "stream",
     "text": [
      "['password9876', 'password123']\n"
     ]
    }
   ],
   "source": [
    "text = 'password9876, password 1, password123, password'\n",
    "\n",
    "print(re.findall(r'password\\d+', text))"
   ]
  },
  {
   "cell_type": "code",
   "execution_count": 53,
   "id": "8cd9cb14",
   "metadata": {},
   "outputs": [
    {
     "name": "stdout",
     "output_type": "stream",
     "text": [
      "['password9876', 'password', 'password123', 'password']\n"
     ]
    }
   ],
   "source": [
    "text = 'password9876, password 1, password123, password'\n",
    "\n",
    "print(re.findall(r'password\\d*', text))"
   ]
  },
  {
   "cell_type": "code",
   "execution_count": 54,
   "id": "472f5b99",
   "metadata": {},
   "outputs": [
    {
     "name": "stdout",
     "output_type": "stream",
     "text": [
      "['Center', 'Centre']\n"
     ]
    }
   ],
   "source": [
    "text = 'Center is American spelling. Centre is British'\n",
    "\n",
    "print(re.findall(r'Cente?re?', text))"
   ]
  },
  {
   "cell_type": "code",
   "execution_count": 55,
   "id": "9ded79c5",
   "metadata": {},
   "outputs": [
    {
     "name": "stdout",
     "output_type": "stream",
     "text": [
      "['password9876', 'password123']\n"
     ]
    }
   ],
   "source": [
    "text = 'password9876, password11, password123, password'\n",
    "\n",
    "print(re.findall(r'password\\d{3,4}', text))"
   ]
  },
  {
   "cell_type": "code",
   "execution_count": 56,
   "id": "c076e221",
   "metadata": {},
   "outputs": [
    {
     "name": "stdout",
     "output_type": "stream",
     "text": [
      "['password9876']\n"
     ]
    }
   ],
   "source": [
    "text = 'password9876, password11, password123, password'\n",
    "\n",
    "print(re.findall(r'password\\d{4}', text))"
   ]
  },
  {
   "cell_type": "code",
   "execution_count": 57,
   "id": "cdf8edb7",
   "metadata": {},
   "outputs": [
    {
     "name": "stdout",
     "output_type": "stream",
     "text": [
      "['123-123-1234', '999-456-123456']\n"
     ]
    }
   ],
   "source": [
    "phone_numbers = '123-123-1234, 1-1-100, 999-456-123456'\n",
    "\n",
    "print(re.findall(r'\\d{3}-\\d{3}-\\d{4,}', phone_numbers))"
   ]
  },
  {
   "cell_type": "code",
   "execution_count": 3,
   "id": "ca51ba0a",
   "metadata": {},
   "outputs": [
    {
     "name": "stdout",
     "output_type": "stream",
     "text": [
      "['https://klaudiawolinska.github.io/']\n"
     ]
    }
   ],
   "source": [
    "text = 'https://klaudiawolinska.github.io/'\n",
    "\n",
    "print(re.findall(r'http.*', text))"
   ]
  },
  {
   "cell_type": "code",
   "execution_count": 4,
   "id": "18a89540",
   "metadata": {},
   "outputs": [
    {
     "name": "stdout",
     "output_type": "stream",
     "text": [
      "['http']\n"
     ]
    }
   ],
   "source": [
    "text = 'https://klaudiawolinska.github.io/'\n",
    "\n",
    "print(re.findall(r'http\\.*', text))"
   ]
  },
  {
   "cell_type": "code",
   "execution_count": 60,
   "id": "81cc3ceb",
   "metadata": {},
   "outputs": [
    {
     "name": "stdout",
     "output_type": "stream",
     "text": [
      "['This is some text', 'It has 3 sentences', \"Let's split them.\"]\n"
     ]
    }
   ],
   "source": [
    "text = \"This is some text. It has 3 sentences. Let's split them.\"\n",
    "\n",
    "print(re.split(r'\\.\\s', text))"
   ]
  },
  {
   "cell_type": "code",
   "execution_count": 61,
   "id": "28b54dc9",
   "metadata": {},
   "outputs": [
    {
     "name": "stdout",
     "output_type": "stream",
     "text": [
      "<re.Match object; span=(0, 6), match='Center'>\n",
      "<re.Match object; span=(0, 6), match='Center'>\n"
     ]
    }
   ],
   "source": [
    "text = 'Center is American spelling. Centre is British'\n",
    "\n",
    "print(re.search(r'Cente?re?', text))\n",
    "print(re.match(r'Cente?re?', text))"
   ]
  },
  {
   "cell_type": "code",
   "execution_count": 62,
   "id": "f14e2358",
   "metadata": {},
   "outputs": [
    {
     "name": "stdout",
     "output_type": "stream",
     "text": [
      "<re.Match object; span=(29, 35), match='Centre'>\n",
      "None\n"
     ]
    }
   ],
   "source": [
    "text = 'Center is American spelling. Centre is British'\n",
    "\n",
    "print(re.search(r'Centre', text))\n",
    "print(re.match(r'Centre', text))"
   ]
  },
  {
   "cell_type": "code",
   "execution_count": 63,
   "id": "b5780929",
   "metadata": {},
   "outputs": [
    {
     "name": "stdout",
     "output_type": "stream",
     "text": [
      "['the 70s', 'the 80s', 'the 90s']\n",
      "['the 70s']\n",
      "['the 90s']\n"
     ]
    }
   ],
   "source": [
    "text = 'the 70s music is not as good as the 80s, but my favourite is the 90s'\n",
    "\n",
    "print(re.findall(r'the\\s\\d{2}s', text))\n",
    "print(re.findall(r'^the\\s\\d{2}s', text))\n",
    "print(re.findall(r'the\\s\\d{2}s$', text))"
   ]
  },
  {
   "cell_type": "code",
   "execution_count": 64,
   "id": "d40c02d3",
   "metadata": {},
   "outputs": [
    {
     "name": "stdout",
     "output_type": "stream",
     "text": [
      "['the 80s', 'the 90s']\n",
      "['The 70s', 'the 80s', 'the 90s']\n"
     ]
    }
   ],
   "source": [
    "text = 'The 70s music is not as good as the 80s, but my favourite is the 90s'\n",
    "\n",
    "print(re.findall(r'the\\s\\d{2}s', text))\n",
    "print(re.findall(r'The\\s\\d{2}s|the\\s\\d{2}s', text))"
   ]
  },
  {
   "cell_type": "code",
   "execution_count": 65,
   "id": "3fa58fc6",
   "metadata": {},
   "outputs": [
    {
     "name": "stdout",
     "output_type": "stream",
     "text": [
      "['The 70s', 'the 80s', 'the 90s']\n"
     ]
    }
   ],
   "source": [
    "text = 'The 70s music is not as good as the 80s, but my favourite is the 90s'\n",
    "\n",
    "print(re.findall(r'[Tt]he\\s\\d{2}s', text))"
   ]
  },
  {
   "cell_type": "code",
   "execution_count": 66,
   "id": "43a92514",
   "metadata": {},
   "outputs": [
    {
     "name": "stdout",
     "output_type": "stream",
     "text": [
      "['The 70s', 'the 80s', 'the 90s']\n"
     ]
    }
   ],
   "source": [
    "text = 'The 70s music is not as good as the 80s, but my favourite is the 90s'\n",
    "\n",
    "print(re.findall(r'[a-zA-Z]+\\s\\d{2}s', text))"
   ]
  },
  {
   "cell_type": "code",
   "execution_count": 67,
   "id": "39bf9106",
   "metadata": {},
   "outputs": [
    {
     "name": "stdout",
     "output_type": "stream",
     "text": [
      "['@admin']\n"
     ]
    }
   ],
   "source": [
    "users = '@admin, @123crazyduck, @999guest'\n",
    "    \n",
    "print(re.findall(r'@[^0-9,]+', users))"
   ]
  },
  {
   "cell_type": "code",
   "execution_count": 68,
   "id": "bad60bad",
   "metadata": {},
   "outputs": [
    {
     "name": "stdout",
     "output_type": "stream",
     "text": [
      "<re.Match object; span=(0, 5), match='12345'>\n",
      "<re.Match object; span=(0, 1), match='1'>\n"
     ]
    }
   ],
   "source": [
    "example = '12345example'\n",
    "\n",
    "print(re.match(r'\\d+', example)) # greedy\n",
    "print(re.match(r'\\d+?', example)) # non-greedy"
   ]
  },
  {
   "cell_type": "code",
   "execution_count": 69,
   "id": "68e61a28",
   "metadata": {},
   "outputs": [
    {
     "name": "stdout",
     "output_type": "stream",
     "text": [
      "Example of an HTML text. Let's remove all tags!\n"
     ]
    }
   ],
   "source": [
    "html = \"Example of an <b>HTML</b> text. Let's remove <i>all tags</i>!\"\n",
    "\n",
    "print(re.sub(r'<.+?>', \"\", html))"
   ]
  },
  {
   "cell_type": "code",
   "execution_count": 70,
   "id": "fd9e1f7f",
   "metadata": {},
   "outputs": [
    {
     "name": "stdout",
     "output_type": "stream",
     "text": [
      "['Anna has 2 dogs', 'Mark has 2 cats', 'George has 101 fish']\n"
     ]
    }
   ],
   "source": [
    "text = 'All my friends have pets. Anna has 2 dogs. Mark has 2 cats. And George has 101 fish!'\n",
    "\n",
    "print(re.findall(r'[A-Za-z]+\\shas\\s\\d+\\s[a-z]+', text))"
   ]
  },
  {
   "cell_type": "code",
   "execution_count": 71,
   "id": "e5d55fc3",
   "metadata": {},
   "outputs": [
    {
     "name": "stdout",
     "output_type": "stream",
     "text": [
      "[('Anna', '2', 'dogs'), ('Mark', '2', 'cats'), ('George', '101', 'fish')]\n"
     ]
    }
   ],
   "source": [
    "text = 'All my friends have pets. Anna has 2 dogs. Mark has 2 cats. And George has 101 fish!'\n",
    "\n",
    "print(re.findall(r'([A-Za-z]+)\\shas\\s(\\d+)\\s([a-z]+)', text))\n",
    "\n",
    "# Group 1: ([A-Za-z]+)\n",
    "# Group 2: (\\d+)\n",
    "# Group 3: ([a-z]+)\n",
    "\n",
    "# Group 0: ([A-Za-z]+)\\shas\\s(\\d+)\\s([a-z]+)"
   ]
  },
  {
   "cell_type": "code",
   "execution_count": 72,
   "id": "62da9f27",
   "metadata": {},
   "outputs": [
    {
     "name": "stdout",
     "output_type": "stream",
     "text": [
      "['909', '1255']\n",
      "['9', '5']\n"
     ]
    }
   ],
   "source": [
    "numbers = 'First number is 909. Second number is 1255.'\n",
    "\n",
    "print(re.findall(r'(\\d+)', numbers))\n",
    "print(re.findall(r'(\\d)+', numbers))"
   ]
  },
  {
   "cell_type": "code",
   "execution_count": 73,
   "id": "cfa42c8a",
   "metadata": {},
   "outputs": [
    {
     "name": "stdout",
     "output_type": "stream",
     "text": [
      "[('wikipedia', 'org'), ('google', 'com')]\n"
     ]
    }
   ],
   "source": [
    "urls = 'https://www.wikipedia.org/, https://www.google.com/, ' \\\n",
    "       'https://www.regular-expressions.info/, https://klaudiawolinska.github.io/'\n",
    "\n",
    "print(re.findall(r'www\\.([a-zA-Z0-9]+)\\.(org|com)', urls))"
   ]
  },
  {
   "cell_type": "code",
   "execution_count": 74,
   "id": "245b07ec",
   "metadata": {},
   "outputs": [
    {
     "name": "stdout",
     "output_type": "stream",
     "text": [
      "['wikipedia', 'google']\n"
     ]
    }
   ],
   "source": [
    "urls = 'https://www.wikipedia.org/, https://www.google.com/, ' \\\n",
    "       'https://www.regular-expressions.info/, https://klaudiawolinska.github.io/'\n",
    "\n",
    "print(re.findall(r'www\\.([a-zA-Z0-9]+)\\.(?:org|com)', urls))"
   ]
  },
  {
   "cell_type": "code",
   "execution_count": 75,
   "id": "b7366758",
   "metadata": {},
   "outputs": [
    {
     "name": "stdout",
     "output_type": "stream",
     "text": [
      "www.wikipedia.org\n",
      "wikipedia\n",
      "org\n",
      "org\n"
     ]
    }
   ],
   "source": [
    "urls = 'https://www.wikipedia.org/, https://www.google.com/, ' \\\n",
    "       'https://www.regular-expressions.info/, https://klaudiawolinska.github.io/'\n",
    "\n",
    "result = re.search(r'www\\.([a-zA-Z0-9]+)\\.(?P<top_level_domain>org|com)', urls)\n",
    "\n",
    "print(result.group(0))\n",
    "print(result.group(1))\n",
    "print(result.group(2))\n",
    "print(result.group('top_level_domain'))"
   ]
  },
  {
   "cell_type": "code",
   "execution_count": 76,
   "id": "90f173bd",
   "metadata": {},
   "outputs": [
    {
     "name": "stdout",
     "output_type": "stream",
     "text": [
      "['so', 'very']\n"
     ]
    }
   ],
   "source": [
    "text = 'I am so so happy writing this regex paper. ' \\\n",
    "       'I am serious, it makes me very very very happy.'\n",
    "\n",
    "print(re.findall(r'(\\w+)\\s\\1', text))"
   ]
  },
  {
   "cell_type": "code",
   "execution_count": 77,
   "id": "e44e9ba5",
   "metadata": {},
   "outputs": [
    {
     "name": "stdout",
     "output_type": "stream",
     "text": [
      "I am so happy writing this regex paper. I am serious, it makes me very happy.\n"
     ]
    }
   ],
   "source": [
    "text = 'I am so so happy writing this regex paper. ' \\\n",
    "       'I am serious, it makes me very very very happy.'\n",
    "\n",
    "print(re.sub(r'(\\w+)(?:\\s\\1)+', r'\\1', text))"
   ]
  },
  {
   "cell_type": "code",
   "execution_count": 78,
   "id": "22dc72e1",
   "metadata": {},
   "outputs": [
    {
     "name": "stdout",
     "output_type": "stream",
     "text": [
      "I am so happy writing this regex paper. I am serious, it makes me very very happy.\n",
      "I am so happy writing this regex paper. I am serious, it makes me very happy.\n"
     ]
    }
   ],
   "source": [
    "text = 'I am so so happy writing this regex paper. ' \\\n",
    "       'I am serious, it makes me very very very happy.'\n",
    "\n",
    "print(re.sub(r'(?P<repeated>\\w+)\\s(?P=repeated)', r'\\g<repeated>', text))\n",
    "print(re.sub(r'(?P<repeated>\\w+)(?:\\s(?P=repeated))+', r'\\g<repeated>', text))"
   ]
  },
  {
   "cell_type": "code",
   "execution_count": 79,
   "id": "b6484375",
   "metadata": {},
   "outputs": [
    {
     "name": "stdout",
     "output_type": "stream",
     "text": [
      "['file1.txt']\n"
     ]
    }
   ],
   "source": [
    "files = 'file1.txt: success, file2.txt: fail, file1.csv: success, file2.xlsx: success'\n",
    "\n",
    "# Example 1: positive look-ahead\n",
    "# Find all .txt files that were successfully processed.\n",
    "\n",
    "print(re.findall(r'\\w+\\.txt(?=:\\ssuccess)', files))"
   ]
  },
  {
   "cell_type": "code",
   "execution_count": 80,
   "id": "1a4cda76",
   "metadata": {},
   "outputs": [
    {
     "name": "stdout",
     "output_type": "stream",
     "text": [
      "['file2.txt']\n"
     ]
    }
   ],
   "source": [
    "files = 'file1.txt: success, file2.txt: fail, file1.csv: success, file2.xlsx: success'\n",
    "\n",
    "# Example 2: negative look-ahead\n",
    "# Find all .txt files that were not successfully processed.\n",
    "\n",
    "print(re.findall(r'\\w+\\.txt(?!:\\ssuccess)', files))"
   ]
  },
  {
   "cell_type": "code",
   "execution_count": 81,
   "id": "0cc755c3",
   "metadata": {},
   "outputs": [
    {
     "name": "stdout",
     "output_type": "stream",
     "text": [
      "['success', 'fail']\n"
     ]
    }
   ],
   "source": [
    "files = 'file1.txt: success, file2.txt: fail, file1.csv: success, file2.xlsx: success'\n",
    "\n",
    "# Example 3: positive look-behind\n",
    "# Find all processing statuses of .txt files.\n",
    "\n",
    "print(re.findall(r'\\w+(?<=\\.txt):\\s(\\w+)', files))"
   ]
  },
  {
   "cell_type": "code",
   "execution_count": 82,
   "id": "6e2c460c",
   "metadata": {},
   "outputs": [
    {
     "name": "stdout",
     "output_type": "stream",
     "text": [
      "['success', 'success']\n"
     ]
    }
   ],
   "source": [
    "files = 'file1.txt: success, file2.txt: fail, file1.csv: success, file2.xlsx: success'\n",
    "\n",
    "# Example 4: negative look-behind\n",
    "# Find all processing statuses of files that are not .txt.\n",
    "\n",
    "print(re.findall(r'\\w+(?<!\\.txt):\\s(\\w+)', files))"
   ]
  }
 ],
 "metadata": {
  "kernelspec": {
   "display_name": "Python 3 (ipykernel)",
   "language": "python",
   "name": "python3"
  },
  "language_info": {
   "codemirror_mode": {
    "name": "ipython",
    "version": 3
   },
   "file_extension": ".py",
   "mimetype": "text/x-python",
   "name": "python",
   "nbconvert_exporter": "python",
   "pygments_lexer": "ipython3",
   "version": "3.9.6"
  }
 },
 "nbformat": 4,
 "nbformat_minor": 5
}
